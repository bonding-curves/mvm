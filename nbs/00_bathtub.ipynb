{
 "cells": [
  {
   "cell_type": "markdown",
   "metadata": {},
   "source": [
    "# bathtub\n",
    "\n",
    "> cadCAD bathtub"
   ]
  },
  {
   "cell_type": "code",
   "execution_count": null,
   "metadata": {},
   "outputs": [],
   "source": [
    "#| default_exp bathtub"
   ]
  },
  {
   "cell_type": "code",
   "execution_count": 3,
   "metadata": {},
   "outputs": [],
   "source": [
    "#| hide\n",
    "from nbdev.showdoc import *"
   ]
  },
  {
   "cell_type": "code",
   "execution_count": 5,
   "metadata": {},
   "outputs": [
    {
     "name": "stdout",
     "output_type": "stream",
     "text": [
      "\n",
      "                  ___________    ____\n",
      "  ________ __ ___/ / ____/   |  / __ \\\n",
      " / ___/ __` / __  / /   / /| | / / / /\n",
      "/ /__/ /_/ / /_/ / /___/ ___ |/ /_/ /\n",
      "\\___/\\__,_/\\__,_/\\____/_/  |_/_____/\n",
      "by cadCAD\n",
      "\n",
      "cadCAD Version: 0.5.1\n",
      "Execution Mode: local_proc\n",
      "Simulation Dimensions:\n",
      "Entire Simulation: (Models, Unique Timesteps, Params, Total Runs, Sub-States) = (1, 10, 3, 2, 1)\n",
      "     Simulation 0: (Timesteps, Params, Runs, Sub-States) = (10, 3, 2, 1)\n"
     ]
    },
    {
     "name": "stderr",
     "output_type": "stream",
     "text": [
      "/home/ygg/.cache/pypoetry/virtualenvs/mvm-eEnQJ9sY-py3.10/lib/python3.10/site-packages/cadCAD/tools/utils.py:10: SyntaxWarning: \"is\" with a literal. Did you mean \"==\"?\n",
      "  if signal is '':\n"
     ]
    },
    {
     "data": {
      "application/vnd.jupyter.widget-view+json": {
       "model_id": "b0e7bc926cc64a58abb185c5b5efe6b3",
       "version_major": 2,
       "version_minor": 0
      },
      "text/plain": [
       "Initializing configurations:   0%|          | 0/2 [00:00<?, ?it/s]"
      ]
     },
     "metadata": {},
     "output_type": "display_data"
    },
    {
     "name": "stdout",
     "output_type": "stream",
     "text": [
      "Execution Method: parallelize_simulations\n",
      "Execution Mode: parallelized\n"
     ]
    },
    {
     "data": {
      "application/vnd.jupyter.widget-view+json": {
       "model_id": "247f677881a84c3e99bdc236500ea882",
       "version_major": 2,
       "version_minor": 0
      },
      "text/plain": [
       "Flattening results:   0%|          | 0/2 [00:00<?, ?it/s]"
      ]
     },
     "metadata": {},
     "output_type": "display_data"
    },
    {
     "name": "stdout",
     "output_type": "stream",
     "text": [
      "Total execution time: 0.04s\n",
      "run             1                                2                        \n",
      "         capacity drain faucet          x capacity drain faucet          x\n",
      "timestep                                                                  \n",
      "0           100.0  0.01    2.0   5.000000    100.0   0.1    2.0   5.000000\n",
      "1           100.0  0.01    2.0   6.950000    100.0   0.1    2.0   6.500000\n",
      "2           100.0  0.01    2.0   8.880500    100.0   0.1    2.0   7.850000\n",
      "3           100.0  0.01    2.0  10.791695    100.0   0.1    2.0   9.065000\n",
      "4           100.0  0.01    2.0  12.683778    100.0   0.1    2.0  10.158500\n",
      "5           100.0  0.01    2.0  14.556940    100.0   0.1    2.0  11.142650\n",
      "6           100.0  0.01    2.0  16.411371    100.0   0.1    2.0  12.028385\n",
      "7           100.0  0.01    2.0  18.247257    100.0   0.1    2.0  12.825546\n",
      "8           100.0  0.01    2.0  20.064785    100.0   0.1    2.0  13.542992\n",
      "9           100.0  0.01    2.0  21.864137    100.0   0.1    2.0  14.188693\n",
      "10          100.0  0.01    2.0  23.645495    100.0   0.1    2.0  14.769823\n"
     ]
    }
   ],
   "source": [
    "#| export\n",
    "import pandas as pd\n",
    "from cadCAD.tools.execution import easy_run\n",
    "pd.set_option(\"display.width\", None)\n",
    "pd.set_option(\"display.max_columns\", None)\n",
    "pd.set_option(\"display.max_rows\", None)\n",
    "\n",
    "\n",
    "state_variables = {\n",
    "    \"x\": 5,  # The level of water in the bathtub\n",
    "}\n",
    "\n",
    "params = {\n",
    "    \"faucet\": [2],  # The inflow from the faucet\n",
    "    \"drain\": [0.01, 0.1],  # The width of the drain\n",
    "    \"capacity\": [100],  # The inflow from the faucet\n",
    "}\n",
    "\n",
    "\n",
    "def p_bathtub(params, substep, state_history, state):\n",
    "    x_delta = params[\"faucet\"] - params[\"drain\"] * state[\"x\"]\n",
    "    return {\"x_delta\": x_delta}\n",
    "\n",
    "\n",
    "def s_bathtub(params, substep, state_history, previous_state, policy_input):\n",
    "    x = max(min(previous_state[\"x\"] + policy_input[\"x_delta\"], params[\"capacity\"]), 0)\n",
    "    return (\"x\", x)\n",
    "\n",
    "psubs = [\n",
    "    {\n",
    "        \"policies\": {\"p_bathtub\": p_bathtub},\n",
    "        \"variables\": {\"x\": s_bathtub},\n",
    "    },\n",
    "]\n",
    "\n",
    "N_timesteps = 10\n",
    "\n",
    "N_samples = 1\n",
    "\n",
    "results = easy_run(\n",
    "    state_variables,\n",
    "    params,\n",
    "    psubs,\n",
    "    N_timesteps,\n",
    "    N_samples,\n",
    ")\n",
    "\n",
    "# print(results)\n",
    "\n",
    "# Make the data look a little cleaner via pivot table.\n",
    "pivot_df = results.pivot_table(\n",
    "    columns=\"run\", index=\"timestep\", values=[\"x\", \"drain\", \"faucet\", \"capacity\"]\n",
    ")\n",
    "\n",
    "# After pivoting, swap and sort column levels\n",
    "pivot_df.columns = pivot_df.columns.swaplevel(0, 1)\n",
    "pivot_df = pivot_df.sort_index(axis=1, level=0)\n",
    "\n",
    "print(pivot_df)"
   ]
  },
  {
   "cell_type": "code",
   "execution_count": 6,
   "metadata": {},
   "outputs": [],
   "source": [
    "#| hide\n",
    "import nbdev; nbdev.nbdev_export()"
   ]
  },
  {
   "cell_type": "code",
   "execution_count": null,
   "metadata": {},
   "outputs": [],
   "source": []
  }
 ],
 "metadata": {
  "kernelspec": {
   "display_name": "Python 3 (ipykernel)",
   "language": "python",
   "name": "python3"
  },
  "language_info": {
   "codemirror_mode": {
    "name": "ipython",
    "version": 3
   },
   "file_extension": ".py",
   "mimetype": "text/x-python",
   "name": "python",
   "nbconvert_exporter": "python",
   "pygments_lexer": "ipython3",
   "version": "3.10.12"
  }
 },
 "nbformat": 4,
 "nbformat_minor": 4
}
